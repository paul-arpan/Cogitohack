{
  "nbformat": 4,
  "nbformat_minor": 0,
  "metadata": {
    "kernelspec": {
      "display_name": "Python 3",
      "language": "python",
      "name": "python3"
    },
    "language_info": {
      "codemirror_mode": {
        "name": "ipython",
        "version": 3
      },
      "file_extension": ".py",
      "mimetype": "text/x-python",
      "name": "python",
      "nbconvert_exporter": "python",
      "pygments_lexer": "ipython3",
      "version": "3.8.5"
    },
    "colab": {
      "name": "New Notebook.ipynb",
      "provenance": [],
      "include_colab_link": true
    }
  },
  "cells": [
    {
      "cell_type": "markdown",
      "metadata": {
        "id": "view-in-github",
        "colab_type": "text"
      },
      "source": [
        "<a href=\"https://colab.research.google.com/github/paul-arpan/Cogitohack/blob/main/New_Notebook.ipynb\" target=\"_parent\"><img src=\"https://colab.research.google.com/assets/colab-badge.svg\" alt=\"Open In Colab\"/></a>"
      ]
    },
    {
      "cell_type": "code",
      "metadata": {
        "id": "ZKkAZ5_2H-z4",
        "outputId": "391c0a82-f89d-4ac3-9e29-a5f975e51561"
      },
      "source": [
        "import os, time\n",
        "import pandas as pd\n",
        "\n",
        "#ipf1 = \"Per-instance-preds.tsv\"\n",
        "#ipf1 = \"Per-instance-preds_20210405.tsv\"\n",
        "#ipf1 = \"Test_data_20210405.tsv\"\n",
        "ipf1 = \"cb9b42c0-9a1c-4e70-aa17-eab4a0c0fb36/Test_data_FULL_200KUU_20210407.tsv\"\n",
        "ipf2 = \"cb9b42c0-9a1c-4e70-aa17-eab4a0c0fb36/Per-instance-preds-200KUU_20210407.tsv\"\n",
        "inputdata1 = pd.read_csv(ipf1, delimiter=\"\\t\")\n",
        "inputdata2 = pd.read_csv(ipf2, delimiter=\"\\t\")\n",
        "print(inputdata1.shape)\n",
        "print(inputdata1.columns)\n",
        "print(inputdata2.shape)\n",
        "print(inputdata2.columns)"
      ],
      "execution_count": null,
      "outputs": [
        {
          "output_type": "stream",
          "text": [
            "(507143, 50)\n",
            "Index(['SessionId', 'ConversationId', 'ImpressionId', 'SuggestionRefId',\n",
            "       'UserId', 'RequestDateTimeTicks', 'SggBestMatchRank',\n",
            "       'AttachmentSuccessClickType', 'LinkSuccessClickType',\n",
            "       'MessageSuccessClickType', 'ClickedSuggestionTypeInConv',\n",
            "       'ClickedSuggestionRefIdInConv', 'Label', 'UserType', 'SuggestionType',\n",
            "       'EntityType', 'ProviderName', 'PrefixLength', 'ProviderRank',\n",
            "       'NumCompetingSuggestionGroups', 'NumCompetingSuggestions',\n",
            "       'NumCompetingHistorySuggestion', 'NumCompetingKeywordSuggestion',\n",
            "       'NumCompetingPeopleSuggestion', 'NumCompetingAttachmentSuggestion',\n",
            "       'NumCompetingLinkSuggestion', 'NumCompetingMessageSuggestion',\n",
            "       'sas_tm_score', 'sas_total_score', 'suggestion_length',\n",
            "       'PrefixSuggestionDamerauLevenshteinDistance',\n",
            "       'PrefixSuggestionDamerauLevenshteinLeadingInsertions',\n",
            "       'PrefixSuggestionDamerauLevenshteinTrailingInsertions', 'hit_count',\n",
            "       'seconds_since_last_issued', 'csg_entity_score', 'csg_match_score',\n",
            "       'csg_grammar_score', 'AdvancedPreferFeature_167', 'size_in_bytes',\n",
            "       'time_since_creation', 'time_since_last_edit', 'editing_time',\n",
            "       'time_since_last_access', 'has_been_modified_since_last_access',\n",
            "       'trending_weight', 'seconds_since_received', 'email_importance',\n",
            "       'is_read', 'has_attachment'],\n",
            "      dtype='object')\n",
            "(476163, 18)\n",
            "Index(['SessionId', 'ConversationId', 'ImpressionId', 'SuggestionRefId',\n",
            "       'UserId', 'RequestDateTimeTicks', 'SggBestMatchRank',\n",
            "       'AttachmentSuccessClickType', 'LinkSuccessClickType',\n",
            "       'MessageSuccessClickType', 'ClickedSuggestionTypeInConv',\n",
            "       'ClickedSuggestionRefIdInConv', 'ProviderName', 'Label', 'Score',\n",
            "       'Probability', 'Log-loss', 'Assigned'],\n",
            "      dtype='object')\n"
          ],
          "name": "stdout"
        }
      ]
    },
    {
      "cell_type": "markdown",
      "metadata": {
        "id": "x_R5Ze5SIET6"
      },
      "source": [
        "# New Section"
      ]
    },
    {
      "cell_type": "code",
      "metadata": {
        "id": "fvqJRXdJH-0A",
        "outputId": "4c9b8a53-bcfe-41dc-ed6c-7919ba3db449"
      },
      "source": [
        "duplicateRowsDF = inputdata1[inputdata1.duplicated()]\n",
        "print(duplicateRowsDF.shape)\n",
        "duplicateRowsDF = inputdata2[inputdata2.duplicated()]\n",
        "print(duplicateRowsDF.shape)"
      ],
      "execution_count": null,
      "outputs": [
        {
          "output_type": "stream",
          "text": [
            "(0, 50)\n",
            "(0, 18)\n"
          ],
          "name": "stdout"
        }
      ]
    },
    {
      "cell_type": "code",
      "metadata": {
        "id": "0Aw0GT94H-0D",
        "outputId": "ee5e7217-5b08-4e15-b891-8a4e98aa40a1"
      },
      "source": [
        "print(sum((inputdata2[\"Score\"] < 0) & (inputdata2[\"Assigned\"] == 1)))\n",
        "print(sum((inputdata2[\"Score\"] < 0) & (inputdata2[\"Assigned\"] == 0)))\n",
        "print(sum((inputdata2[\"Score\"] < 0)))\n",
        "print(sum((inputdata2[\"Score\"] > 0) & (inputdata2[\"Assigned\"] == 0)))\n",
        "print(sum((inputdata2[\"Score\"] > 0) & (inputdata2[\"Assigned\"] == 1)))"
      ],
      "execution_count": null,
      "outputs": [
        {
          "output_type": "stream",
          "text": [
            "0\n",
            "151305\n",
            "151305\n",
            "0\n",
            "324858\n"
          ],
          "name": "stdout"
        }
      ]
    },
    {
      "cell_type": "code",
      "metadata": {
        "id": "p-vYvwpcH-0G",
        "outputId": "e8992ceb-f722-4951-f59c-efc9a0d36765"
      },
      "source": [
        "numConv = inputdata1[\"ConversationId\"].nunique()\n",
        "print(\"# unique conversations in data = \" + repr(numConv))\n",
        "numImpr = inputdata1[\"ImpressionId\"].nunique()\n",
        "print(\"# unique impressions in data = \" + repr(numImpr))\n",
        "numSgg = inputdata1[\"SuggestionRefId\"].nunique()\n",
        "print(\"# unique suggestions in data = \" + repr(numSgg))"
      ],
      "execution_count": null,
      "outputs": [
        {
          "output_type": "stream",
          "text": [
            "# unique conversations in data = 305897\n",
            "# unique impressions in data = 305897\n",
            "# unique suggestions in data = 507143\n"
          ],
          "name": "stdout"
        }
      ]
    },
    {
      "cell_type": "code",
      "metadata": {
        "id": "jKDjjesxH-0J",
        "outputId": "9fbe8688-dd2c-404e-ad1f-941c685aa1a2"
      },
      "source": [
        "numConv = inputdata2[\"ConversationId\"].nunique()\n",
        "print(\"# unique conversations in data = \" + repr(numConv))\n",
        "numImpr = inputdata2[\"ImpressionId\"].nunique()\n",
        "print(\"# unique impressions in data = \" + repr(numImpr))\n",
        "numSgg = inputdata2[\"SuggestionRefId\"].nunique()\n",
        "print(\"# unique suggestions in data = \" + repr(numSgg))"
      ],
      "execution_count": null,
      "outputs": [
        {
          "output_type": "stream",
          "text": [
            "# unique conversations in data = 305811\n",
            "# unique impressions in data = 305811\n",
            "# unique suggestions in data = 476163\n"
          ],
          "name": "stdout"
        }
      ]
    },
    {
      "cell_type": "code",
      "metadata": {
        "id": "CRiRqqqwH-0K"
      },
      "source": [
        "minCols1 = ['SessionId', 'ConversationId', 'ImpressionId', 'SuggestionRefId',\n",
        "       'UserId', 'RequestDateTimeTicks', 'SggBestMatchRank',\n",
        "       'AttachmentSuccessClickType', 'LinkSuccessClickType',\n",
        "       'MessageSuccessClickType', 'ClickedSuggestionTypeInConv',\n",
        "       'ClickedSuggestionRefIdInConv', 'Label', 'UserType', 'SuggestionType',\n",
        "       'EntityType', 'ProviderName', 'PrefixLength', 'ProviderRank']\n",
        "inputdata1 = inputdata1[minCols1]\n",
        "minCols2 = ['SessionId', 'ConversationId', 'ImpressionId', 'SuggestionRefId',\n",
        "       'UserId', 'RequestDateTimeTicks', 'SggBestMatchRank',\n",
        "       'AttachmentSuccessClickType', 'LinkSuccessClickType',\n",
        "       'MessageSuccessClickType', 'ClickedSuggestionTypeInConv',\n",
        "       'ClickedSuggestionRefIdInConv', 'ProviderName', 'Label', 'Assigned']\n",
        "inputdata2 = inputdata2[minCols2]"
      ],
      "execution_count": null,
      "outputs": []
    },
    {
      "cell_type": "code",
      "metadata": {
        "id": "Q6z6ZCJVH-0M",
        "outputId": "7395b809-17a3-4e0a-8a3c-bd24ed585c21"
      },
      "source": [
        "testdata_extra_cols = ['SuggestionRefId', 'UserType', 'SuggestionType',\n",
        "       'EntityType', 'PrefixLength', 'ProviderRank']\n",
        "testdata = inputdata1[inputdata1['SuggestionType'] != \"MessageSuggestion\"]\n",
        "numConv = testdata[\"ConversationId\"].nunique()\n",
        "print(\"# unique conversations in data = \" + repr(numConv))\n",
        "numImpr = testdata[\"ImpressionId\"].nunique()\n",
        "print(\"# unique impressions in data = \" + repr(numImpr))\n",
        "numSgg = testdata[\"SuggestionRefId\"].nunique()\n",
        "print(\"# unique suggestions in data = \" + repr(numSgg)) \n",
        "\n",
        "inputdata2a = pd.merge(inputdata2, testdata[testdata_extra_cols], on='SuggestionRefId')\n",
        "print(inputdata2a.columns)\n",
        "numConv = inputdata2a[\"ConversationId\"].nunique()\n",
        "print(\"# unique conversations in data = \" + repr(numConv))\n",
        "numImpr = inputdata2a[\"ImpressionId\"].nunique()\n",
        "print(\"# unique impressions in data = \" + repr(numImpr))\n",
        "numSgg = inputdata2a[\"SuggestionRefId\"].nunique()\n",
        "print(\"# unique suggestions in data = \" + repr(numSgg))"
      ],
      "execution_count": null,
      "outputs": [
        {
          "output_type": "stream",
          "text": [
            "# unique conversations in data = 305811\n",
            "# unique impressions in data = 305811\n",
            "# unique suggestions in data = 476163\n",
            "Index(['SessionId', 'ConversationId', 'ImpressionId', 'SuggestionRefId',\n",
            "       'UserId', 'RequestDateTimeTicks', 'SggBestMatchRank',\n",
            "       'AttachmentSuccessClickType', 'LinkSuccessClickType',\n",
            "       'MessageSuccessClickType', 'ClickedSuggestionTypeInConv',\n",
            "       'ClickedSuggestionRefIdInConv', 'ProviderName', 'Label', 'Assigned',\n",
            "       'UserType', 'SuggestionType', 'EntityType', 'PrefixLength',\n",
            "       'ProviderRank'],\n",
            "      dtype='object')\n",
            "# unique conversations in data = 305811\n",
            "# unique impressions in data = 305811\n",
            "# unique suggestions in data = 476163\n"
          ],
          "name": "stdout"
        }
      ]
    },
    {
      "cell_type": "code",
      "metadata": {
        "id": "H4m1lU1nH-0P",
        "outputId": "19b56c79-6dc4-4260-abdd-e5a5b5e3c88c"
      },
      "source": [
        "print(inputdata2a['Assigned'].unique())\n",
        "print(inputdata2a['SuggestionType'].value_counts())"
      ],
      "execution_count": null,
      "outputs": [
        {
          "output_type": "stream",
          "text": [
            "[1 0]\n",
            "PeopleSuggestion        243691\n",
            "AttachmentSuggestion    133620\n",
            "HistorySuggestion        73975\n",
            "KeywordSuggestion        21256\n",
            "LinkSuggestion            3621\n",
            "Name: SuggestionType, dtype: int64\n"
          ],
          "name": "stdout"
        }
      ]
    },
    {
      "cell_type": "code",
      "metadata": {
        "id": "MKn-rQFsH-0S",
        "outputId": "1848fb99-ef73-4340-a2ff-3219de0ca86f"
      },
      "source": [
        "print(set(minCols1) - set(inputdata2a.columns))\n",
        "print(set(inputdata2a.columns) - set(minCols1))"
      ],
      "execution_count": null,
      "outputs": [
        {
          "output_type": "stream",
          "text": [
            "set()\n",
            "{'Assigned'}\n"
          ],
          "name": "stdout"
        }
      ]
    },
    {
      "cell_type": "code",
      "metadata": {
        "id": "ZzOFsymAH-0V",
        "outputId": "002f3d6c-4edc-4a66-c31f-9b8c34dfd6e1"
      },
      "source": [
        "message_sgg = inputdata1[inputdata1['SuggestionType'] == \"MessageSuggestion\"]\n",
        "message_sgg['Assigned'] = -1\n",
        "print(message_sgg.shape)\n",
        "numConv = message_sgg[\"ConversationId\"].nunique()\n",
        "print(\"# unique conversations in data = \" + repr(numConv))\n",
        "numImpr = message_sgg[\"ImpressionId\"].nunique()\n",
        "print(\"# unique impressions in data = \" + repr(numImpr))\n",
        "numSgg = message_sgg[\"SuggestionRefId\"].nunique()\n",
        "print(\"# unique suggestions in data = \" + repr(numSgg))"
      ],
      "execution_count": null,
      "outputs": [
        {
          "output_type": "stream",
          "text": [
            "(30980, 20)\n",
            "# unique conversations in data = 30868\n",
            "# unique impressions in data = 30868\n",
            "# unique suggestions in data = 30980\n"
          ],
          "name": "stdout"
        },
        {
          "output_type": "stream",
          "text": [
            "C:\\ProgramData\\Anaconda3\\lib\\site-packages\\ipykernel_launcher.py:2: SettingWithCopyWarning: \n",
            "A value is trying to be set on a copy of a slice from a DataFrame.\n",
            "Try using .loc[row_indexer,col_indexer] = value instead\n",
            "\n",
            "See the caveats in the documentation: http://pandas.pydata.org/pandas-docs/stable/indexing.html#indexing-view-versus-copy\n",
            "  \n"
          ],
          "name": "stderr"
        }
      ]
    },
    {
      "cell_type": "code",
      "metadata": {
        "id": "RDhMcnoGH-0Y",
        "outputId": "e43a46ae-41b0-4dd5-a351-c9964c717b3f"
      },
      "source": [
        "print(inputdata2a.columns)\n",
        "print(message_sgg.columns)\n",
        "message_sgg = message_sgg[inputdata2a.columns]"
      ],
      "execution_count": null,
      "outputs": [
        {
          "output_type": "stream",
          "text": [
            "Index(['SessionId', 'ConversationId', 'ImpressionId', 'SuggestionRefId',\n",
            "       'UserId', 'RequestDateTimeTicks', 'SggBestMatchRank',\n",
            "       'AttachmentSuccessClickType', 'LinkSuccessClickType',\n",
            "       'MessageSuccessClickType', 'ClickedSuggestionTypeInConv',\n",
            "       'ClickedSuggestionRefIdInConv', 'ProviderName', 'Label', 'Assigned',\n",
            "       'UserType', 'SuggestionType', 'EntityType', 'PrefixLength',\n",
            "       'ProviderRank'],\n",
            "      dtype='object')\n",
            "Index(['SessionId', 'ConversationId', 'ImpressionId', 'SuggestionRefId',\n",
            "       'UserId', 'RequestDateTimeTicks', 'SggBestMatchRank',\n",
            "       'AttachmentSuccessClickType', 'LinkSuccessClickType',\n",
            "       'MessageSuccessClickType', 'ClickedSuggestionTypeInConv',\n",
            "       'ClickedSuggestionRefIdInConv', 'Label', 'UserType', 'SuggestionType',\n",
            "       'EntityType', 'ProviderName', 'PrefixLength', 'ProviderRank',\n",
            "       'Assigned'],\n",
            "      dtype='object')\n"
          ],
          "name": "stdout"
        }
      ]
    },
    {
      "cell_type": "code",
      "metadata": {
        "id": "Fq144L1fH-0Z",
        "outputId": "d4ee4e9d-ca08-486e-d71c-753d16eca102"
      },
      "source": [
        "all_data = pd.concat([inputdata2a, message_sgg], axis=0)\n",
        "print(all_data.columns)\n",
        "print(all_data.shape)\n",
        "numConv = all_data[\"ConversationId\"].nunique()\n",
        "print(\"# unique conversations in data = \" + repr(numConv))\n",
        "numImpr = all_data[\"ImpressionId\"].nunique()\n",
        "print(\"# unique impressions in data = \" + repr(numImpr))\n",
        "numSgg = all_data[\"SuggestionRefId\"].nunique()\n",
        "print(\"# unique suggestions in data = \" + repr(numSgg))"
      ],
      "execution_count": null,
      "outputs": [
        {
          "output_type": "stream",
          "text": [
            "Index(['SessionId', 'ConversationId', 'ImpressionId', 'SuggestionRefId',\n",
            "       'UserId', 'RequestDateTimeTicks', 'SggBestMatchRank',\n",
            "       'AttachmentSuccessClickType', 'LinkSuccessClickType',\n",
            "       'MessageSuccessClickType', 'ClickedSuggestionTypeInConv',\n",
            "       'ClickedSuggestionRefIdInConv', 'ProviderName', 'Label', 'Assigned',\n",
            "       'UserType', 'SuggestionType', 'EntityType', 'PrefixLength',\n",
            "       'ProviderRank'],\n",
            "      dtype='object')\n",
            "(507143, 20)\n",
            "# unique conversations in data = 305897\n",
            "# unique impressions in data = 305897\n",
            "# unique suggestions in data = 507143\n"
          ],
          "name": "stdout"
        }
      ]
    },
    {
      "cell_type": "code",
      "metadata": {
        "id": "U78Mp5nCH-0a",
        "outputId": "946553ce-a41c-479d-97cf-0a0432b3bfe1"
      },
      "source": [
        "print(inputdata2a.shape)\n",
        "print(all_data[\"ImpressionId\"].nunique() - inputdata2a[\"ImpressionId\"].nunique())"
      ],
      "execution_count": null,
      "outputs": [
        {
          "output_type": "stream",
          "text": [
            "(476163, 20)\n",
            "86\n"
          ],
          "name": "stdout"
        }
      ]
    },
    {
      "cell_type": "code",
      "metadata": {
        "id": "k6i-JtqvH-0c",
        "outputId": "5a4b0960-8d47-4eff-edb6-bc027cb357ec"
      },
      "source": [
        "if \"PrefixLength\" in all_data.columns:\n",
        "    print(all_data[\"PrefixLength\"].value_counts())\n",
        "    all_data = all_data[all_data[\"PrefixLength\"] != 0]\n",
        "    \n",
        "print(all_data.shape)"
      ],
      "execution_count": null,
      "outputs": [
        {
          "output_type": "stream",
          "text": [
            "4      98649\n",
            "5      91009\n",
            "3      82013\n",
            "6      67223\n",
            "7      40813\n",
            "2      30193\n",
            "8      23302\n",
            "0      17264\n",
            "9      14067\n",
            "1       9421\n",
            "10      8846\n",
            "11      6504\n",
            "12      4654\n",
            "13      3380\n",
            "14      2510\n",
            "15      1689\n",
            "16      1220\n",
            "17       859\n",
            "18       645\n",
            "19       500\n",
            "20       359\n",
            "21       347\n",
            "22       284\n",
            "23       234\n",
            "24       204\n",
            "25       179\n",
            "26       127\n",
            "27       116\n",
            "30        81\n",
            "28        77\n",
            "29        71\n",
            "31        50\n",
            "32        38\n",
            "33        38\n",
            "34        30\n",
            "47        26\n",
            "36        22\n",
            "35        18\n",
            "37        12\n",
            "39        11\n",
            "40         9\n",
            "38         5\n",
            "41         4\n",
            "43         4\n",
            "55         3\n",
            "49         3\n",
            "51         3\n",
            "45         3\n",
            "137        3\n",
            "48         3\n",
            "46         3\n",
            "42         3\n",
            "52         2\n",
            "59         2\n",
            "62         2\n",
            "76         2\n",
            "54         1\n",
            "58         1\n",
            "66         1\n",
            "69         1\n",
            "Name: PrefixLength, dtype: int64\n",
            "(489879, 20)\n"
          ],
          "name": "stdout"
        }
      ]
    },
    {
      "cell_type": "markdown",
      "metadata": {
        "id": "pZrLWnWmH-0e"
      },
      "source": [
        "==> Score > 0 == PredictedLabel = 1 AND Score < 0 == PredictedLabel = 0"
      ]
    },
    {
      "cell_type": "code",
      "metadata": {
        "id": "dUz60e08H-0e",
        "outputId": "909b6533-9f1a-421a-9771-69ad31859a1d"
      },
      "source": [
        "all_data[\"Label\"].value_counts()"
      ],
      "execution_count": null,
      "outputs": [
        {
          "output_type": "execute_result",
          "data": {
            "text/plain": [
              "1    286253\n",
              "0    203626\n",
              "Name: Label, dtype: int64"
            ]
          },
          "metadata": {
            "tags": []
          },
          "execution_count": 50
        }
      ]
    },
    {
      "cell_type": "code",
      "metadata": {
        "id": "1TZQFkuLH-0e",
        "outputId": "45e48771-1225-4957-98c8-92a02ce92df6"
      },
      "source": [
        "all_data[\"ClickedSuggestionTypeInConv\"].value_counts()"
      ],
      "execution_count": null,
      "outputs": [
        {
          "output_type": "execute_result",
          "data": {
            "text/plain": [
              "PeopleSuggestion        348704\n",
              "HistorySuggestion        78729\n",
              "KeywordSuggestion        33477\n",
              "AttachmentSuggestion     26325\n",
              "MessageSuggestion         1431\n",
              "LinkSuggestion            1062\n",
              "None                       151\n",
              "Name: ClickedSuggestionTypeInConv, dtype: int64"
            ]
          },
          "metadata": {
            "tags": []
          },
          "execution_count": 51
        }
      ]
    },
    {
      "cell_type": "code",
      "metadata": {
        "id": "XyiMGlO-H-0f",
        "outputId": "3061d5c1-20b6-417d-b240-0770f2102ed0"
      },
      "source": [
        "all_data[\"SuggestionType\"].value_counts()"
      ],
      "execution_count": null,
      "outputs": [
        {
          "output_type": "execute_result",
          "data": {
            "text/plain": [
              "PeopleSuggestion        238441\n",
              "AttachmentSuggestion    133620\n",
              "HistorySuggestion        61961\n",
              "MessageSuggestion        30980\n",
              "KeywordSuggestion        21256\n",
              "LinkSuggestion            3621\n",
              "Name: SuggestionType, dtype: int64"
            ]
          },
          "metadata": {
            "tags": []
          },
          "execution_count": 52
        }
      ]
    },
    {
      "cell_type": "code",
      "metadata": {
        "id": "5fhXsSWIH-0f",
        "outputId": "13d80161-20f7-41fe-ceda-61abaac14363"
      },
      "source": [
        "def Modify_ClickedRefType(impression):\n",
        "    modifiedType = impression[\"ClickedSuggestionTypeInConv\"]\n",
        "    if modifiedType == \"HistorySuggestion\" or modifiedType == \"KeywordSuggestion\":\n",
        "        modifiedType = \"TextualSuggestion\"\n",
        "    if modifiedType == \"AttachmentSuggestion\" or modifiedType == \"LinkSuggestion\":\n",
        "        modifiedType = \"FileSuggestion\"\n",
        "        \n",
        "    return modifiedType\n",
        "\n",
        "all_data[\"ClickedSggType\"] = all_data.apply(lambda row: Modify_ClickedRefType(row), axis=1)\n",
        "all_data[\"ClickedSggType\"].value_counts()"
      ],
      "execution_count": null,
      "outputs": [
        {
          "output_type": "execute_result",
          "data": {
            "text/plain": [
              "PeopleSuggestion     348704\n",
              "TextualSuggestion    112206\n",
              "FileSuggestion        27387\n",
              "MessageSuggestion      1431\n",
              "None                    151\n",
              "Name: ClickedSggType, dtype: int64"
            ]
          },
          "metadata": {
            "tags": []
          },
          "execution_count": 53
        }
      ]
    },
    {
      "cell_type": "code",
      "metadata": {
        "id": "hQxeBEaVH-0g",
        "outputId": "998c2942-78fc-4bee-bb36-b47bc70c2a03"
      },
      "source": [
        "def Modify_SuggestionType(impression):\n",
        "    modifiedType = impression[\"SuggestionType\"]\n",
        "    if modifiedType == \"HistorySuggestion\" or modifiedType == \"KeywordSuggestion\":\n",
        "        modifiedType = \"TextualSuggestion\"\n",
        "    if modifiedType == \"AttachmentSuggestion\" or modifiedType == \"LinkSuggestion\":\n",
        "        modifiedType = \"FileSuggestion\"\n",
        "        \n",
        "    return modifiedType\n",
        "\n",
        "all_data[\"SggType\"] = all_data.apply(lambda row: Modify_SuggestionType(row), axis=1)\n",
        "all_data[\"SggType\"].value_counts()"
      ],
      "execution_count": null,
      "outputs": [
        {
          "output_type": "execute_result",
          "data": {
            "text/plain": [
              "PeopleSuggestion     238441\n",
              "FileSuggestion       137241\n",
              "TextualSuggestion     83217\n",
              "MessageSuggestion     30980\n",
              "Name: SggType, dtype: int64"
            ]
          },
          "metadata": {
            "tags": []
          },
          "execution_count": 54
        }
      ]
    },
    {
      "cell_type": "code",
      "metadata": {
        "id": "Ztdpkp2lH-0g",
        "outputId": "b5351766-520e-48b7-919c-6881d38b20c8"
      },
      "source": [
        "print(all_data.columns)\n",
        "all_data[\"SggBestMatchRank\"].value_counts()"
      ],
      "execution_count": null,
      "outputs": [
        {
          "output_type": "stream",
          "text": [
            "Index(['SessionId', 'ConversationId', 'ImpressionId', 'SuggestionRefId',\n",
            "       'UserId', 'RequestDateTimeTicks', 'SggBestMatchRank',\n",
            "       'AttachmentSuccessClickType', 'LinkSuccessClickType',\n",
            "       'MessageSuccessClickType', 'ClickedSuggestionTypeInConv',\n",
            "       'ClickedSuggestionRefIdInConv', 'ProviderName', 'Label', 'Assigned',\n",
            "       'UserType', 'SuggestionType', 'EntityType', 'PrefixLength',\n",
            "       'ProviderRank', 'ClickedSggType', 'SggType'],\n",
            "      dtype='object')\n"
          ],
          "name": "stdout"
        },
        {
          "output_type": "execute_result",
          "data": {
            "text/plain": [
              " 1    243386\n",
              " 2    150833\n",
              "-1     95660\n",
              "Name: SggBestMatchRank, dtype: int64"
            ]
          },
          "metadata": {
            "tags": []
          },
          "execution_count": 55
        }
      ]
    },
    {
      "cell_type": "code",
      "metadata": {
        "id": "scpp_lhjH-0h",
        "outputId": "3e364e05-2942-41de-d7e8-97f0494253ef"
      },
      "source": [
        "ix = (all_data[\"SggType\"] == \"MessageSuggestion\") & (all_data[\"ProviderRank\"] == 1)\n",
        "print(sum(ix))\n",
        "ix = (all_data[\"SggType\"] == \"MessageSuggestion\") & (all_data[\"ProviderRank\"] == 2)\n",
        "print(sum(ix))\n",
        "ix = (all_data[\"SggType\"] == \"MessageSuggestion\") & (all_data[\"ProviderRank\"] == 1) & (all_data[\"SggBestMatchRank\"] > 0)\n",
        "print(sum(ix))\n",
        "ix = (all_data[\"SggType\"] == \"MessageSuggestion\") & (all_data[\"ProviderRank\"] == 2) & (all_data[\"SggBestMatchRank\"] > 0)\n",
        "print(sum(ix))\n",
        "ix = (all_data[\"SggType\"] == \"MessageSuggestion\") & (all_data[\"ProviderRank\"] == 1) & (all_data[\"SggBestMatchRank\"] > 0) & (all_data[\"Label\"] == 1)\n",
        "print(sum(ix))\n",
        "ix = (all_data[\"SggType\"] == \"MessageSuggestion\") & (all_data[\"ProviderRank\"] == 2) & (all_data[\"SggBestMatchRank\"] > 0) & (all_data[\"Label\"] == 1)\n",
        "print(sum(ix))"
      ],
      "execution_count": null,
      "outputs": [
        {
          "output_type": "stream",
          "text": [
            "27890\n",
            "1445\n",
            "27872\n",
            "1391\n",
            "455\n",
            "21\n"
          ],
          "name": "stdout"
        }
      ]
    },
    {
      "cell_type": "code",
      "metadata": {
        "id": "BfA7UxTpH-0i",
        "outputId": "21562dfc-50f5-4c66-ff1a-a8bf33e44a8e"
      },
      "source": [
        "ix = (all_data[\"SggType\"] == \"FileSuggestion\") & (all_data[\"ProviderRank\"] == 1)\n",
        "print(sum(ix))\n",
        "ix = (all_data[\"SggType\"] == \"FileSuggestion\") & (all_data[\"ProviderRank\"] == 2)\n",
        "print(sum(ix))\n",
        "ix = (all_data[\"SggType\"] == \"FileSuggestion\") & (all_data[\"ProviderRank\"] == 1) & (all_data[\"SggBestMatchRank\"] > 0)\n",
        "print(sum(ix))\n",
        "ix = (all_data[\"SggType\"] == \"FileSuggestion\") & (all_data[\"ProviderRank\"] == 2) & (all_data[\"SggBestMatchRank\"] > 0)\n",
        "print(sum(ix))\n",
        "ix = (all_data[\"SggType\"] == \"FileSuggestion\") & (all_data[\"ProviderRank\"] == 1) & (all_data[\"SggBestMatchRank\"] > 0) & (all_data[\"Label\"] == 1)\n",
        "print(sum(ix))\n",
        "ix = (all_data[\"SggType\"] == \"FileSuggestion\") & (all_data[\"ProviderRank\"] == 2) & (all_data[\"SggBestMatchRank\"] > 0) & (all_data[\"Label\"] == 1)\n",
        "print(sum(ix))"
      ],
      "execution_count": null,
      "outputs": [
        {
          "output_type": "stream",
          "text": [
            "119204\n",
            "8705\n",
            "118828\n",
            "6647\n",
            "12539\n",
            "608\n"
          ],
          "name": "stdout"
        }
      ]
    },
    {
      "cell_type": "code",
      "metadata": {
        "id": "xbhGwC2fH-0j",
        "outputId": "6f40a9c0-3351-466a-d639-3c8514a161b3"
      },
      "source": [
        "all_data[\"ClickOnBM\"] = all_data.apply(lambda row: (row[\"SggBestMatchRank\"] > 0) and (row[\"Label\"] == 1), axis=1)\n",
        "all_data[\"ClickOnBM\"].value_counts()"
      ],
      "execution_count": null,
      "outputs": [
        {
          "output_type": "execute_result",
          "data": {
            "text/plain": [
              "False    299286\n",
              "True     190593\n",
              "Name: ClickOnBM, dtype: int64"
            ]
          },
          "metadata": {
            "tags": []
          },
          "execution_count": 58
        }
      ]
    },
    {
      "cell_type": "code",
      "metadata": {
        "id": "9AN2W_kiH-0j",
        "outputId": "b5ffbf62-1993-4024-be09-0eb84970100e"
      },
      "source": [
        "sggTypes = [\"TextualSuggestion\", \"PeopleSuggestion\", \"FileSuggestion\", \"MessageSuggestion\"]\n",
        "\n",
        "def conv_level_aggreg(impression, types):\n",
        "    #print(impression.columns)\n",
        "    #print(impression.shape)\n",
        "    lastImpHasBM = 0\n",
        "    lastImpHasClick = 0\n",
        "    lastImpHasBMClick = 0\n",
        "    \n",
        "    ix = impression[\"ClickedSggType\"] != \"None\"\n",
        "    if sum(ix):\n",
        "        lastImpHasClick = 1\n",
        "        \n",
        "    #print(lastImpHasClick)\n",
        "    \n",
        "    if impression[\"SggBestMatchRank\"].max() > 0:\n",
        "        lastImpHasBM = 1\n",
        "        \n",
        "    #print(lastImpHasBM)\n",
        "    \n",
        "    ix = (impression[\"SggBestMatchRank\"] > 0) & (impression[\"Label\"] == 1)\n",
        "    \n",
        "    lastImpHasBMClick = sum(ix)\n",
        "    #print(lastImpHasBMClick)\n",
        "    \n",
        "    ix = impression[\"Assigned\"] == 1\n",
        "    numPredictedBM = sum(ix)\n",
        "    \n",
        "    lastImpHasPredictedBM = min(numPredictedBM, 1)\n",
        "    \n",
        "    ix = (impression[\"Assigned\"] == 1) & (impression[\"Label\"] == 1)\n",
        "    \n",
        "    lastImpPredictedBMHasClick = sum(ix)\n",
        "    \n",
        "    #========== type specific counts\n",
        "    colNames = []\n",
        "    colNames.append('LastImpHasClick')\n",
        "    colNames.append('LastImpHasBM')\n",
        "    colNames.append('LastImpHasBMClick')\n",
        "    colNames.append('LastImpHasPredictedBM')\n",
        "    colNames.append('LastImpPredictedBMHasClick')\n",
        "    vals = []\n",
        "    vals.append(lastImpHasClick)\n",
        "    vals.append(lastImpHasBM)\n",
        "    vals.append(lastImpHasBMClick)\n",
        "    vals.append(lastImpHasPredictedBM)\n",
        "    vals.append(lastImpPredictedBMHasClick)\n",
        "    \n",
        "    for type_ in types:\n",
        "#        type_mod = type_.replace(\"Suggestion\", \"\")\n",
        "#        if \"Textual\" in type_mod:\n",
        "#            type_mod = \"Text\"\n",
        "        \n",
        "        colNames.append('LastImpHas' + type_ + 'Click')\n",
        "        colNames.append('LastImpHas' + type_ + 'InBM')\n",
        "        colNames.append('LastImp' + type_ + 'InBMHasClick')\n",
        "        colNames.append('LastImpHas' + type_ + 'InPredictedBM')\n",
        "        colNames.append('LastImp' + type_ + 'InPredictedBMHasClick')\n",
        "        \n",
        "        ix = impression[\"ClickedSggType\"] == type_\n",
        "        lastImpHasTypeClick = 0\n",
        "        if sum(ix) > 0:\n",
        "            lastImpHasTypeClick = 1\n",
        "        \n",
        "        lastImpHasTypeBMClick = 0\n",
        "        lastImpHasTypePredictedBMClick = 0\n",
        "        if type_ == \"MessageSuggestion\":\n",
        "            # baseline\n",
        "            ix = (impression[\"SggBestMatchRank\"] > 0) & (impression[\"SggType\"] == type_)\n",
        "            lastImpressionHasTypeInBM = min(sum(ix), 1)\n",
        "            ix = (impression[\"SggBestMatchRank\"] > 0) & (impression[\"SggType\"] == type_) & (impression[\"Label\"] == 1)\n",
        "            lastImpHasTypeBMClick = min(sum(ix), 1)\n",
        "            # model\n",
        "            if numPredictedBM > 0 and numPredictedBM < 3: #model params            \n",
        "                ix = (impression[\"SggType\"] == type_) \n",
        "                lastImpressionHasTypePredictedInBM = min(sum(ix), 1) #impression has (at least) 1 Message sgg; if so promote it to BM\n",
        "                ix = (impression[\"SggType\"] == type_) & (impression[\"Label\"] == 1)\n",
        "                lastImpHasTypePredictedBMClick = min(sum(ix), 1)\n",
        "                if lastImpressionHasTypePredictedInBM:\n",
        "                    numPredictedBM += 1\n",
        "            \n",
        "        if type_ != \"MessageSuggestion\":\n",
        "            # baseline\n",
        "            ix = (impression[\"SggBestMatchRank\"] > 0) & (impression[\"SggType\"] == type_)\n",
        "            lastImpressionHasTypeInBM = min(sum(ix), 1)\n",
        "            ix = (impression[\"SggBestMatchRank\"] > 0) & (impression[\"SggType\"] == type_) & (impression[\"Label\"] == 1)\n",
        "            lastImpHasTypeBMClick = min(sum(ix), 1)                \n",
        "            # model\n",
        "            ix = (impression[\"Assigned\"] == 1) & (impression[\"SggType\"] == type_)\n",
        "            lastImpressionHasTypePredictedInBM = min(sum(ix), 1)\n",
        "            ix = (impression[\"Assigned\"] == 1) & (impression[\"SggType\"] == type_) & (impression[\"Label\"] == 1)\n",
        "            lastImpHasTypePredictedBMClick = min(sum(ix), 1)\n",
        "            \n",
        "        vals.append(lastImpHasTypeClick) #'LastImpHas' + type_ + 'Click'\n",
        "        vals.append(lastImpressionHasTypeInBM) #'LastImpHas' + type_ + 'InBM'  \n",
        "        vals.append(lastImpHasTypeBMClick) #'LastImp' + type_ + 'InBMHasClick'\n",
        "        vals.append(lastImpressionHasTypePredictedInBM) #'LastImpHas' + type_ + 'InPredictedBM'\n",
        "        vals.append(lastImpHasTypePredictedBMClick) #'LastImp' + type_ + 'InPredictedBMHasClick'\n",
        "        \n",
        "    colNames.append(\"TotalPredictedBM\")\n",
        "    vals.append(numPredictedBM)\n",
        "            \n",
        "    return pd.Series(vals, index=colNames)\n",
        "\n",
        "start = time.time()\n",
        "nrows = 1000\n",
        "df = all_data.iloc[:nrows,].groupby('ImpressionId')[\"SggType\",\"ClickedSggType\",\"SggBestMatchRank\",\"Label\",\"Assigned\"].apply(conv_level_aggreg, sggTypes)\n",
        "end = time.time()\n",
        "print(\"Execution time for \" + repr(nrows) + \": \" + repr(end - start) + \" sec\")\n",
        "print(df.shape)\n",
        "df.head()"
      ],
      "execution_count": null,
      "outputs": [
        {
          "output_type": "stream",
          "text": [
            "Execution time for 1000: 6.0121424198150635 sec\n",
            "(643, 26)\n"
          ],
          "name": "stdout"
        },
        {
          "output_type": "execute_result",
          "data": {
            "text/html": [
              "<div>\n",
              "<style scoped>\n",
              "    .dataframe tbody tr th:only-of-type {\n",
              "        vertical-align: middle;\n",
              "    }\n",
              "\n",
              "    .dataframe tbody tr th {\n",
              "        vertical-align: top;\n",
              "    }\n",
              "\n",
              "    .dataframe thead th {\n",
              "        text-align: right;\n",
              "    }\n",
              "</style>\n",
              "<table border=\"1\" class=\"dataframe\">\n",
              "  <thead>\n",
              "    <tr style=\"text-align: right;\">\n",
              "      <th></th>\n",
              "      <th>LastImpHasClick</th>\n",
              "      <th>LastImpHasBM</th>\n",
              "      <th>LastImpHasBMClick</th>\n",
              "      <th>LastImpHasPredictedBM</th>\n",
              "      <th>LastImpPredictedBMHasClick</th>\n",
              "      <th>LastImpHasTextualSuggestionClick</th>\n",
              "      <th>LastImpHasTextualSuggestionInBM</th>\n",
              "      <th>LastImpTextualSuggestionInBMHasClick</th>\n",
              "      <th>LastImpHasTextualSuggestionInPredictedBM</th>\n",
              "      <th>LastImpTextualSuggestionInPredictedBMHasClick</th>\n",
              "      <th>...</th>\n",
              "      <th>LastImpHasFileSuggestionInBM</th>\n",
              "      <th>LastImpFileSuggestionInBMHasClick</th>\n",
              "      <th>LastImpHasFileSuggestionInPredictedBM</th>\n",
              "      <th>LastImpFileSuggestionInPredictedBMHasClick</th>\n",
              "      <th>LastImpHasMessageSuggestionClick</th>\n",
              "      <th>LastImpHasMessageSuggestionInBM</th>\n",
              "      <th>LastImpMessageSuggestionInBMHasClick</th>\n",
              "      <th>LastImpHasMessageSuggestionInPredictedBM</th>\n",
              "      <th>LastImpMessageSuggestionInPredictedBMHasClick</th>\n",
              "      <th>TotalPredictedBM</th>\n",
              "    </tr>\n",
              "    <tr>\n",
              "      <th>ImpressionId</th>\n",
              "      <th></th>\n",
              "      <th></th>\n",
              "      <th></th>\n",
              "      <th></th>\n",
              "      <th></th>\n",
              "      <th></th>\n",
              "      <th></th>\n",
              "      <th></th>\n",
              "      <th></th>\n",
              "      <th></th>\n",
              "      <th></th>\n",
              "      <th></th>\n",
              "      <th></th>\n",
              "      <th></th>\n",
              "      <th></th>\n",
              "      <th></th>\n",
              "      <th></th>\n",
              "      <th></th>\n",
              "      <th></th>\n",
              "      <th></th>\n",
              "      <th></th>\n",
              "    </tr>\n",
              "  </thead>\n",
              "  <tbody>\n",
              "    <tr>\n",
              "      <th>00000c09-f5cf-458b-858c-336919ee6749</th>\n",
              "      <td>1</td>\n",
              "      <td>1</td>\n",
              "      <td>1</td>\n",
              "      <td>1</td>\n",
              "      <td>1</td>\n",
              "      <td>0</td>\n",
              "      <td>0</td>\n",
              "      <td>0</td>\n",
              "      <td>0</td>\n",
              "      <td>0</td>\n",
              "      <td>...</td>\n",
              "      <td>1</td>\n",
              "      <td>0</td>\n",
              "      <td>0</td>\n",
              "      <td>0</td>\n",
              "      <td>0</td>\n",
              "      <td>0</td>\n",
              "      <td>0</td>\n",
              "      <td>0</td>\n",
              "      <td>0</td>\n",
              "      <td>1</td>\n",
              "    </tr>\n",
              "    <tr>\n",
              "      <th>00001815-5424-4e96-bac0-5eee78af101d</th>\n",
              "      <td>1</td>\n",
              "      <td>0</td>\n",
              "      <td>0</td>\n",
              "      <td>1</td>\n",
              "      <td>1</td>\n",
              "      <td>0</td>\n",
              "      <td>0</td>\n",
              "      <td>0</td>\n",
              "      <td>0</td>\n",
              "      <td>0</td>\n",
              "      <td>...</td>\n",
              "      <td>0</td>\n",
              "      <td>0</td>\n",
              "      <td>0</td>\n",
              "      <td>0</td>\n",
              "      <td>0</td>\n",
              "      <td>0</td>\n",
              "      <td>0</td>\n",
              "      <td>0</td>\n",
              "      <td>0</td>\n",
              "      <td>1</td>\n",
              "    </tr>\n",
              "    <tr>\n",
              "      <th>000065f4-9447-4bb9-8c0f-bebe12ab90b4</th>\n",
              "      <td>1</td>\n",
              "      <td>0</td>\n",
              "      <td>0</td>\n",
              "      <td>1</td>\n",
              "      <td>1</td>\n",
              "      <td>0</td>\n",
              "      <td>0</td>\n",
              "      <td>0</td>\n",
              "      <td>0</td>\n",
              "      <td>0</td>\n",
              "      <td>...</td>\n",
              "      <td>0</td>\n",
              "      <td>0</td>\n",
              "      <td>0</td>\n",
              "      <td>0</td>\n",
              "      <td>0</td>\n",
              "      <td>0</td>\n",
              "      <td>0</td>\n",
              "      <td>0</td>\n",
              "      <td>0</td>\n",
              "      <td>1</td>\n",
              "    </tr>\n",
              "    <tr>\n",
              "      <th>00007488-4be7-4cd3-a004-3c443f57ba00</th>\n",
              "      <td>1</td>\n",
              "      <td>1</td>\n",
              "      <td>1</td>\n",
              "      <td>1</td>\n",
              "      <td>1</td>\n",
              "      <td>0</td>\n",
              "      <td>0</td>\n",
              "      <td>0</td>\n",
              "      <td>0</td>\n",
              "      <td>0</td>\n",
              "      <td>...</td>\n",
              "      <td>0</td>\n",
              "      <td>0</td>\n",
              "      <td>0</td>\n",
              "      <td>0</td>\n",
              "      <td>0</td>\n",
              "      <td>0</td>\n",
              "      <td>0</td>\n",
              "      <td>0</td>\n",
              "      <td>0</td>\n",
              "      <td>1</td>\n",
              "    </tr>\n",
              "    <tr>\n",
              "      <th>00009c46-6010-46dd-a656-0f5d20b25030</th>\n",
              "      <td>1</td>\n",
              "      <td>1</td>\n",
              "      <td>1</td>\n",
              "      <td>1</td>\n",
              "      <td>1</td>\n",
              "      <td>1</td>\n",
              "      <td>1</td>\n",
              "      <td>1</td>\n",
              "      <td>1</td>\n",
              "      <td>1</td>\n",
              "      <td>...</td>\n",
              "      <td>1</td>\n",
              "      <td>0</td>\n",
              "      <td>0</td>\n",
              "      <td>0</td>\n",
              "      <td>0</td>\n",
              "      <td>0</td>\n",
              "      <td>0</td>\n",
              "      <td>0</td>\n",
              "      <td>0</td>\n",
              "      <td>1</td>\n",
              "    </tr>\n",
              "  </tbody>\n",
              "</table>\n",
              "<p>5 rows × 26 columns</p>\n",
              "</div>"
            ],
            "text/plain": [
              "                                      LastImpHasClick  LastImpHasBM  \\\n",
              "ImpressionId                                                          \n",
              "00000c09-f5cf-458b-858c-336919ee6749                1             1   \n",
              "00001815-5424-4e96-bac0-5eee78af101d                1             0   \n",
              "000065f4-9447-4bb9-8c0f-bebe12ab90b4                1             0   \n",
              "00007488-4be7-4cd3-a004-3c443f57ba00                1             1   \n",
              "00009c46-6010-46dd-a656-0f5d20b25030                1             1   \n",
              "\n",
              "                                      LastImpHasBMClick  \\\n",
              "ImpressionId                                              \n",
              "00000c09-f5cf-458b-858c-336919ee6749                  1   \n",
              "00001815-5424-4e96-bac0-5eee78af101d                  0   \n",
              "000065f4-9447-4bb9-8c0f-bebe12ab90b4                  0   \n",
              "00007488-4be7-4cd3-a004-3c443f57ba00                  1   \n",
              "00009c46-6010-46dd-a656-0f5d20b25030                  1   \n",
              "\n",
              "                                      LastImpHasPredictedBM  \\\n",
              "ImpressionId                                                  \n",
              "00000c09-f5cf-458b-858c-336919ee6749                      1   \n",
              "00001815-5424-4e96-bac0-5eee78af101d                      1   \n",
              "000065f4-9447-4bb9-8c0f-bebe12ab90b4                      1   \n",
              "00007488-4be7-4cd3-a004-3c443f57ba00                      1   \n",
              "00009c46-6010-46dd-a656-0f5d20b25030                      1   \n",
              "\n",
              "                                      LastImpPredictedBMHasClick  \\\n",
              "ImpressionId                                                       \n",
              "00000c09-f5cf-458b-858c-336919ee6749                           1   \n",
              "00001815-5424-4e96-bac0-5eee78af101d                           1   \n",
              "000065f4-9447-4bb9-8c0f-bebe12ab90b4                           1   \n",
              "00007488-4be7-4cd3-a004-3c443f57ba00                           1   \n",
              "00009c46-6010-46dd-a656-0f5d20b25030                           1   \n",
              "\n",
              "                                      LastImpHasTextualSuggestionClick  \\\n",
              "ImpressionId                                                             \n",
              "00000c09-f5cf-458b-858c-336919ee6749                                 0   \n",
              "00001815-5424-4e96-bac0-5eee78af101d                                 0   \n",
              "000065f4-9447-4bb9-8c0f-bebe12ab90b4                                 0   \n",
              "00007488-4be7-4cd3-a004-3c443f57ba00                                 0   \n",
              "00009c46-6010-46dd-a656-0f5d20b25030                                 1   \n",
              "\n",
              "                                      LastImpHasTextualSuggestionInBM  \\\n",
              "ImpressionId                                                            \n",
              "00000c09-f5cf-458b-858c-336919ee6749                                0   \n",
              "00001815-5424-4e96-bac0-5eee78af101d                                0   \n",
              "000065f4-9447-4bb9-8c0f-bebe12ab90b4                                0   \n",
              "00007488-4be7-4cd3-a004-3c443f57ba00                                0   \n",
              "00009c46-6010-46dd-a656-0f5d20b25030                                1   \n",
              "\n",
              "                                      LastImpTextualSuggestionInBMHasClick  \\\n",
              "ImpressionId                                                                 \n",
              "00000c09-f5cf-458b-858c-336919ee6749                                     0   \n",
              "00001815-5424-4e96-bac0-5eee78af101d                                     0   \n",
              "000065f4-9447-4bb9-8c0f-bebe12ab90b4                                     0   \n",
              "00007488-4be7-4cd3-a004-3c443f57ba00                                     0   \n",
              "00009c46-6010-46dd-a656-0f5d20b25030                                     1   \n",
              "\n",
              "                                      LastImpHasTextualSuggestionInPredictedBM  \\\n",
              "ImpressionId                                                                     \n",
              "00000c09-f5cf-458b-858c-336919ee6749                                         0   \n",
              "00001815-5424-4e96-bac0-5eee78af101d                                         0   \n",
              "000065f4-9447-4bb9-8c0f-bebe12ab90b4                                         0   \n",
              "00007488-4be7-4cd3-a004-3c443f57ba00                                         0   \n",
              "00009c46-6010-46dd-a656-0f5d20b25030                                         1   \n",
              "\n",
              "                                      LastImpTextualSuggestionInPredictedBMHasClick  \\\n",
              "ImpressionId                                                                          \n",
              "00000c09-f5cf-458b-858c-336919ee6749                                              0   \n",
              "00001815-5424-4e96-bac0-5eee78af101d                                              0   \n",
              "000065f4-9447-4bb9-8c0f-bebe12ab90b4                                              0   \n",
              "00007488-4be7-4cd3-a004-3c443f57ba00                                              0   \n",
              "00009c46-6010-46dd-a656-0f5d20b25030                                              1   \n",
              "\n",
              "                                            ...         \\\n",
              "ImpressionId                                ...          \n",
              "00000c09-f5cf-458b-858c-336919ee6749        ...          \n",
              "00001815-5424-4e96-bac0-5eee78af101d        ...          \n",
              "000065f4-9447-4bb9-8c0f-bebe12ab90b4        ...          \n",
              "00007488-4be7-4cd3-a004-3c443f57ba00        ...          \n",
              "00009c46-6010-46dd-a656-0f5d20b25030        ...          \n",
              "\n",
              "                                      LastImpHasFileSuggestionInBM  \\\n",
              "ImpressionId                                                         \n",
              "00000c09-f5cf-458b-858c-336919ee6749                             1   \n",
              "00001815-5424-4e96-bac0-5eee78af101d                             0   \n",
              "000065f4-9447-4bb9-8c0f-bebe12ab90b4                             0   \n",
              "00007488-4be7-4cd3-a004-3c443f57ba00                             0   \n",
              "00009c46-6010-46dd-a656-0f5d20b25030                             1   \n",
              "\n",
              "                                      LastImpFileSuggestionInBMHasClick  \\\n",
              "ImpressionId                                                              \n",
              "00000c09-f5cf-458b-858c-336919ee6749                                  0   \n",
              "00001815-5424-4e96-bac0-5eee78af101d                                  0   \n",
              "000065f4-9447-4bb9-8c0f-bebe12ab90b4                                  0   \n",
              "00007488-4be7-4cd3-a004-3c443f57ba00                                  0   \n",
              "00009c46-6010-46dd-a656-0f5d20b25030                                  0   \n",
              "\n",
              "                                      LastImpHasFileSuggestionInPredictedBM  \\\n",
              "ImpressionId                                                                  \n",
              "00000c09-f5cf-458b-858c-336919ee6749                                      0   \n",
              "00001815-5424-4e96-bac0-5eee78af101d                                      0   \n",
              "000065f4-9447-4bb9-8c0f-bebe12ab90b4                                      0   \n",
              "00007488-4be7-4cd3-a004-3c443f57ba00                                      0   \n",
              "00009c46-6010-46dd-a656-0f5d20b25030                                      0   \n",
              "\n",
              "                                      LastImpFileSuggestionInPredictedBMHasClick  \\\n",
              "ImpressionId                                                                       \n",
              "00000c09-f5cf-458b-858c-336919ee6749                                           0   \n",
              "00001815-5424-4e96-bac0-5eee78af101d                                           0   \n",
              "000065f4-9447-4bb9-8c0f-bebe12ab90b4                                           0   \n",
              "00007488-4be7-4cd3-a004-3c443f57ba00                                           0   \n",
              "00009c46-6010-46dd-a656-0f5d20b25030                                           0   \n",
              "\n",
              "                                      LastImpHasMessageSuggestionClick  \\\n",
              "ImpressionId                                                             \n",
              "00000c09-f5cf-458b-858c-336919ee6749                                 0   \n",
              "00001815-5424-4e96-bac0-5eee78af101d                                 0   \n",
              "000065f4-9447-4bb9-8c0f-bebe12ab90b4                                 0   \n",
              "00007488-4be7-4cd3-a004-3c443f57ba00                                 0   \n",
              "00009c46-6010-46dd-a656-0f5d20b25030                                 0   \n",
              "\n",
              "                                      LastImpHasMessageSuggestionInBM  \\\n",
              "ImpressionId                                                            \n",
              "00000c09-f5cf-458b-858c-336919ee6749                                0   \n",
              "00001815-5424-4e96-bac0-5eee78af101d                                0   \n",
              "000065f4-9447-4bb9-8c0f-bebe12ab90b4                                0   \n",
              "00007488-4be7-4cd3-a004-3c443f57ba00                                0   \n",
              "00009c46-6010-46dd-a656-0f5d20b25030                                0   \n",
              "\n",
              "                                      LastImpMessageSuggestionInBMHasClick  \\\n",
              "ImpressionId                                                                 \n",
              "00000c09-f5cf-458b-858c-336919ee6749                                     0   \n",
              "00001815-5424-4e96-bac0-5eee78af101d                                     0   \n",
              "000065f4-9447-4bb9-8c0f-bebe12ab90b4                                     0   \n",
              "00007488-4be7-4cd3-a004-3c443f57ba00                                     0   \n",
              "00009c46-6010-46dd-a656-0f5d20b25030                                     0   \n",
              "\n",
              "                                      LastImpHasMessageSuggestionInPredictedBM  \\\n",
              "ImpressionId                                                                     \n",
              "00000c09-f5cf-458b-858c-336919ee6749                                         0   \n",
              "00001815-5424-4e96-bac0-5eee78af101d                                         0   \n",
              "000065f4-9447-4bb9-8c0f-bebe12ab90b4                                         0   \n",
              "00007488-4be7-4cd3-a004-3c443f57ba00                                         0   \n",
              "00009c46-6010-46dd-a656-0f5d20b25030                                         0   \n",
              "\n",
              "                                      LastImpMessageSuggestionInPredictedBMHasClick  \\\n",
              "ImpressionId                                                                          \n",
              "00000c09-f5cf-458b-858c-336919ee6749                                              0   \n",
              "00001815-5424-4e96-bac0-5eee78af101d                                              0   \n",
              "000065f4-9447-4bb9-8c0f-bebe12ab90b4                                              0   \n",
              "00007488-4be7-4cd3-a004-3c443f57ba00                                              0   \n",
              "00009c46-6010-46dd-a656-0f5d20b25030                                              0   \n",
              "\n",
              "                                      TotalPredictedBM  \n",
              "ImpressionId                                            \n",
              "00000c09-f5cf-458b-858c-336919ee6749                 1  \n",
              "00001815-5424-4e96-bac0-5eee78af101d                 1  \n",
              "000065f4-9447-4bb9-8c0f-bebe12ab90b4                 1  \n",
              "00007488-4be7-4cd3-a004-3c443f57ba00                 1  \n",
              "00009c46-6010-46dd-a656-0f5d20b25030                 1  \n",
              "\n",
              "[5 rows x 26 columns]"
            ]
          },
          "metadata": {
            "tags": []
          },
          "execution_count": 67
        }
      ]
    },
    {
      "cell_type": "code",
      "metadata": {
        "id": "ooFmPzbQH-0m",
        "outputId": "0e9ba8f5-799a-4427-cf64-9a2b80294825"
      },
      "source": [
        "start = time.time()\n",
        "df = all_data.groupby('ImpressionId')[\"SggType\",\"ClickedSggType\",\"SggBestMatchRank\",\"Label\",\"Assigned\"].apply(conv_level_aggreg, sggTypes)\n",
        "end = time.time()\n",
        "print(\"Execution time for \" + repr(all_data.shape[0]) + \": \" + repr(end - start) + \" sec\")\n",
        "print(df.shape)"
      ],
      "execution_count": null,
      "outputs": [
        {
          "output_type": "stream",
          "text": [
            "Execution time for 489879: 3006.1741766929626 sec\n",
            "(288633, 26)\n"
          ],
          "name": "stdout"
        }
      ]
    },
    {
      "cell_type": "code",
      "metadata": {
        "id": "iV0UudzoH-0o",
        "outputId": "548ad924-4ebf-4a76-9a20-ae28c018935f"
      },
      "source": [
        "print(all_data['ImpressionId'].nunique())\n",
        "print(df.columns)\n",
        "print(df['TotalPredictedBM'].value_counts())\n",
        "print(df['LastImpHasTextualSuggestionInBM'].sum())\n",
        "print(df['LastImpHasFileSuggestionInBM'].sum())\n",
        "print(df['LastImpHasMessageSuggestionInBM'].sum())"
      ],
      "execution_count": null,
      "outputs": [
        {
          "output_type": "stream",
          "text": [
            "288633\n",
            "Index(['LastImpHasClick', 'LastImpHasBM', 'LastImpHasBMClick',\n",
            "       'LastImpHasPredictedBM', 'LastImpPredictedBMHasClick',\n",
            "       'LastImpHasTextualSuggestionClick', 'LastImpHasTextualSuggestionInBM',\n",
            "       'LastImpTextualSuggestionInBMHasClick',\n",
            "       'LastImpHasTextualSuggestionInPredictedBM',\n",
            "       'LastImpTextualSuggestionInPredictedBMHasClick',\n",
            "       'LastImpHasPeopleSuggestionClick', 'LastImpHasPeopleSuggestionInBM',\n",
            "       'LastImpPeopleSuggestionInBMHasClick',\n",
            "       'LastImpHasPeopleSuggestionInPredictedBM',\n",
            "       'LastImpPeopleSuggestionInPredictedBMHasClick',\n",
            "       'LastImpHasFileSuggestionClick', 'LastImpHasFileSuggestionInBM',\n",
            "       'LastImpFileSuggestionInBMHasClick',\n",
            "       'LastImpHasFileSuggestionInPredictedBM',\n",
            "       'LastImpFileSuggestionInPredictedBMHasClick',\n",
            "       'LastImpHasMessageSuggestionClick', 'LastImpHasMessageSuggestionInBM',\n",
            "       'LastImpMessageSuggestionInBMHasClick',\n",
            "       'LastImpHasMessageSuggestionInPredictedBM',\n",
            "       'LastImpMessageSuggestionInPredictedBMHasClick'],\n",
            "      dtype='object')\n",
            "39541\n",
            "132971\n",
            "30863\n"
          ],
          "name": "stdout"
        }
      ]
    },
    {
      "cell_type": "code",
      "metadata": {
        "id": "t3GetJKwH-0p",
        "outputId": "66c4438f-9b70-4d60-f1ed-2073eb7117fb"
      },
      "source": [
        "nConv = df.shape[0]\n",
        "### Baseline stats\n",
        "# Overall\n",
        "dictStatsBaseline = {}\n",
        "key = \"Overall Coverage\"\n",
        "dictStatsBaseline[key] = 100*df['LastImpHasBM'].sum() / nConv\n",
        "key = \"Overall Recall\"\n",
        "dictStatsBaseline[key] = 100*df['LastImpHasBMClick'].sum() / df['LastImpHasClick'].sum()\n",
        "key = \"Overall SkipRate\"\n",
        "ix = (df['LastImpHasBMClick'] == 0) & (df['LastImpHasBM']) & (df['LastImpHasClick'])\n",
        "dictStatsBaseline[key] = 100* sum(ix) / df['LastImpHasClick'].sum()\n",
        "\n",
        "for key,val in dictStatsBaseline.items():\n",
        "    print(key + \": \" + repr(val))"
      ],
      "execution_count": null,
      "outputs": [
        {
          "output_type": "stream",
          "text": [
            "Overall Coverage: 84.22772170888291\n",
            "Overall Recall: 66.05885207264662\n",
            "Overall SkipRate: 18.162692361014834\n"
          ],
          "name": "stdout"
        }
      ]
    },
    {
      "cell_type": "code",
      "metadata": {
        "id": "5BCsZRayH-0p",
        "outputId": "1721c1a5-fcb3-4ae8-c90c-b1ac9a9d4fb7"
      },
      "source": [
        "### Model stats\n",
        "# Overall\n",
        "dictStatsModel = {}\n",
        "key = \"Overall Coverage\"\n",
        "dictStatsModel[key] = 100*df['LastImpHasPredictedBM'].sum() / nConv\n",
        "key = \"Overall Recall\"\n",
        "dictStatsModel[key] = 100*df['LastImpPredictedBMHasClick'].sum() / df['LastImpHasClick'].sum()\n",
        "key = \"Overall SkipRate\"\n",
        "ix = (df['LastImpPredictedBMHasClick'] == 0) & (df['LastImpHasPredictedBM']) & (df['LastImpHasClick'])\n",
        "dictStatsModel[key] = 100* sum(ix) / df['LastImpHasClick'].sum()\n",
        "\n",
        "for key,val in dictStatsModel.items():\n",
        "    print(key + \": \" + repr(val))"
      ],
      "execution_count": null,
      "outputs": [
        {
          "output_type": "stream",
          "text": [
            "Overall Coverage: 96.44531290600867\n",
            "Overall Recall: 92.82788021627617\n",
            "Overall SkipRate: 3.6305975322334674\n"
          ],
          "name": "stdout"
        }
      ]
    },
    {
      "cell_type": "code",
      "metadata": {
        "id": "TvLO3FEQH-0p",
        "outputId": "fbb3145b-5802-4956-ab64-bc98c256ebea"
      },
      "source": [
        "### Baseline\n",
        "# Type-specific metrics\n",
        "for type_ in sggTypes:\n",
        "#    type_mod = type_.replace(\"Suggestion\", \"\")\n",
        "#    if \"Textual\" in type_mod:\n",
        "#        type_mod = \"Text\"\n",
        "#    print(type_mod)\n",
        "    \n",
        "    key = type_ + \" Coverage\"\n",
        "    if 'LastImpHas' + type_ + 'InBM' not in df.columns:\n",
        "        print('LastImpHas' + type_ + 'InBM')\n",
        "    dictStatsBaseline[key] = 100*df['LastImpHas' + type_ + 'InBM'].sum() / nConv\n",
        "    key = type_ + \" Recall\"\n",
        "    if 'LastImp' + type_ + 'InBMHasClick' not in df.columns:\n",
        "        print('LastImp' + type_ + 'InBMHasClick')\n",
        "    if 'LastImpHas' + type_ + 'Click' not in df.columns:\n",
        "        print('LastImpHas' + type_ + 'Click')\n",
        "    dictStatsBaseline[key] = 100*df['LastImp' + type_ + 'InBMHasClick'].sum() / df['LastImpHas' + type_ + 'Click'].sum()\n",
        "    key = type_ + \" SkipRate\"\n",
        "    ix = (df['LastImp' + type_ + 'InBMHasClick'] == 0) & (df['LastImpHas' + type_ + 'InBM']) & (df['LastImpHas' + type_ + 'Click'])\n",
        "    dictStatsBaseline[key] = 100* sum(ix) / df['LastImpHas' + type_ + 'Click'].sum()\n",
        "\n",
        "for key,val in dictStatsBaseline.items():\n",
        "    print(key + \": \" + repr(val))"
      ],
      "execution_count": null,
      "outputs": [
        {
          "output_type": "stream",
          "text": [
            "Overall Coverage: 84.22772170888291\n",
            "Overall Recall: 66.05885207264662\n",
            "Overall SkipRate: 18.162692361014834\n",
            "TextualSuggestion Coverage: 13.699403741082968\n",
            "TextualSuggestion Recall: 36.22638203428438\n",
            "TextualSuggestion SkipRate: 5.735478783985048\n",
            "PeopleSuggestion Coverage: 61.60660769905035\n",
            "PeopleSuggestion Recall: 75.54929044276969\n",
            "PeopleSuggestion SkipRate: 4.956689363864135\n",
            "FileSuggestion Coverage: 46.06922978315023\n",
            "FileSuggestion Recall: 73.51494513810064\n",
            "FileSuggestion SkipRate: 14.372196097508242\n",
            "MessageSuggestion Coverage: 10.6928175225979\n",
            "MessageSuggestion Recall: 65.89147286821705\n",
            "MessageSuggestion SkipRate: 14.470284237726098\n"
          ],
          "name": "stdout"
        }
      ]
    },
    {
      "cell_type": "code",
      "metadata": {
        "id": "WxnGNg3CH-0q",
        "outputId": "07503668-846c-46da-9b20-c2ff4d3ed331"
      },
      "source": [
        "### Model\n",
        "# Type-specific metrics\n",
        "for type_ in sggTypes:\n",
        "#    type_mod = type_.replace(\"Suggestion\", \"\")\n",
        "#    if \"Textual\" in type_mod:\n",
        "#        type_mod = \"Text\"\n",
        "    \n",
        "    key = type_ + \" Coverage\"\n",
        "    if 'LastImpHas' + type_ + 'InPredictedBM' not in df.columns:\n",
        "        print('LastImpHas' + type_ + 'InPredictedBM')\n",
        "    dictStatsModel[key] = 100*df['LastImpHas' + type_ + 'InPredictedBM'].sum() / nConv\n",
        "    key = type_ + \" Recall\"\n",
        "    if 'LastImp' + type_ + 'InPredictedBMHasClick' not in df.columns:\n",
        "        print('LastImp' + type_ + 'InPredictedBMHasClick')\n",
        "    if 'LastImpHas' + type_ + 'Click' not in df.columns:\n",
        "        print('LastImpHas' + type_ + 'Click')\n",
        "    dictStatsModel[key] = 100*df['LastImp' + type_ + 'InPredictedBMHasClick'].sum() / df['LastImpHas' + type_ + 'Click'].sum()\n",
        "    key = type_ + \" SkipRate\"\n",
        "    ix = (df['LastImp' + type_ + 'InPredictedBMHasClick'] == 0) & (df['LastImpHas' + type_ + 'InPredictedBM']) & (df['LastImpHas' + type_ + 'Click'])\n",
        "    dictStatsModel[key] = 100* sum(ix) / df['LastImpHas' + type_ + 'Click'].sum()\n",
        "\n",
        "for key,val in dictStatsModel.items():\n",
        "    print(key + \": \" + repr(val))"
      ],
      "execution_count": null,
      "outputs": [
        {
          "output_type": "stream",
          "text": [
            "Overall Coverage: 96.44531290600867\n",
            "Overall Recall: 92.82788021627617\n",
            "Overall SkipRate: 3.6305975322334674\n",
            "TextualSuggestion Coverage: 24.930621238735696\n",
            "TextualSuggestion Recall: 96.35983996729259\n",
            "TextualSuggestion SkipRate: 0.04526472563735654\n",
            "PeopleSuggestion Coverage: 74.38650466162913\n",
            "PeopleSuggestion Recall: 97.9333429634537\n",
            "PeopleSuggestion SkipRate: 1.3045492356507056\n",
            "FileSuggestion Coverage: 2.2637744124892163\n",
            "FileSuggestion Recall: 28.236311550726988\n",
            "FileSuggestion SkipRate: 0.3675477001243176\n",
            "MessageSuggestion Coverage: 10.661289596130727\n",
            "MessageSuggestion Recall: 68.73385012919897\n",
            "MessageSuggestion SkipRate: 0.0\n"
          ],
          "name": "stdout"
        }
      ]
    },
    {
      "cell_type": "code",
      "metadata": {
        "id": "rkAvIpttH-0q"
      },
      "source": [
        "dictStats = {}\n",
        "# Type-specific metrics\n",
        "\n",
        "\n",
        "for sggtype in sggTypes:\n",
        "    falsePositives = sum((inputdata[\"ClickedSggType\"] == sggtype) & (inputdata[\"Label\"] == 0) & (inputdata[\"Assigned\"] == 1))\n",
        "    trueNegatives = sum((inputdata[\"ClickedSggType\"] == sggtype) & (inputdata[\"Label\"] == 0) & (inputdata[\"Assigned\"] == 0))\n",
        "    truePositives = sum((inputdata[\"ClickedSggType\"] == sggtype) & (inputdata[\"Label\"] == 1) & (inputdata[\"Assigned\"] == 1))\n",
        "    falseNegatives = sum((inputdata[\"ClickedSggType\"] == sggtype) & (inputdata[\"Label\"] == 1) & (inputdata[\"Assigned\"] == 0))\n",
        "    # for computing Precision-3, following needs \"SggType\" column in data\n",
        "    #clicksOfTypeAndBMOfType = sum((inputdata[\"ClickedSggType\"] == sggtype) & (inputdata[\"SggType\"] == sggtype) & (inputdata[\"Assigned\"] == 1))\n",
        "    clicksOnTypeWhenBMPresent = sum((inputdata[\"ClickedSggType\"] == sggtype) & (inputdata[\"Assigned\"] == 1))\n",
        "    # since label is mainly derived from Click, the following will probably always be 0\n",
        "    clicksOnTypeOutsideBMWhenBMPresent = sum((inputdata[\"ClickedSggType\"] == sggtype) & (inputdata[\"Label\"] == 0) & (inputdata[\"Assigned\"] == 1))\n",
        "\n",
        "    bmPrecisionOfType = 100*truePositives/(truePositives + falsePositives)\n",
        "    bmRecallOfType = 100*truePositives/(truePositives + falseNegatives)\n",
        "    bmSkipRateOfType = 100*clicksOnTypeOutsideBMWhenBMPresent/clicksOnTypeWhenBMPresent\n",
        "    \n",
        "    key = \"Precision-\" + sggtype + \" (Fraction of Conv-with-BM-of-\" + sggtype + \" that had BM-click on the same)\"\n",
        "    dictStats[key] = bmPrecisionOfType\n",
        "    key = \"Recall-\" + sggtype + \" (Fraction of Conv-with-Click-on-\" + sggtype + \" that had Clicked Sgg in BM)\"\n",
        "    dictStats[key] = bmRecallOfType\n",
        "\n",
        "    '''\n",
        "    key = \"(Col3-Precision) Fraction of Conv-with-Click on \" + sggtype + \" and BM-of-\" + sggtype + \" that had BM-click\"\n",
        "    dictStats[key] = bmCol3PrecisionOfType\n",
        "    '''\n",
        "    \n",
        "    key = \"SkipRate-\" + sggtype + \" (Fraction of Conv-with-Click on \" + sggtype + \" and BM-of-\" + sggtype + \" that had Click outside BM)\"\n",
        "    dictStats[key] = bmSkipRateOfType"
      ],
      "execution_count": null,
      "outputs": []
    },
    {
      "cell_type": "code",
      "metadata": {
        "id": "qnHlgPiIH-0q",
        "outputId": "da40b5b1-e7ec-4857-d8df-9636a9fcf340"
      },
      "source": [
        "for key,val in dictStats.items():\n",
        "    print(key + repr(val))"
      ],
      "execution_count": null,
      "outputs": [
        {
          "output_type": "stream",
          "text": [
            "Precision-TextualSuggestion (Fraction of Conv-with-BM-of-TextualSuggestion that had BM-click on the same)92.03906154281846\n",
            "Recall-TextualSuggestion (Fraction of Conv-with-Click-on-TextualSuggestion that had Clicked Sgg in BM)99.03674503243988\n",
            "SkipRate-TextualSuggestion (Fraction of Conv-with-Click on TextualSuggestion and BM-of-TextualSuggestion that had Click outside BM)7.960938457181535\n",
            "Precision-PeopleSuggestion (Fraction of Conv-with-BM-of-PeopleSuggestion that had BM-click on the same)90.87538643650949\n",
            "Recall-PeopleSuggestion (Fraction of Conv-with-Click-on-PeopleSuggestion that had Clicked Sgg in BM)96.2374444562094\n",
            "SkipRate-PeopleSuggestion (Fraction of Conv-with-Click on PeopleSuggestion and BM-of-PeopleSuggestion that had Click outside BM)9.124613563490513\n",
            "Precision-FileSuggestion (Fraction of Conv-with-BM-of-FileSuggestion that had BM-click on the same)59.01817818617659\n",
            "Recall-FileSuggestion (Fraction of Conv-with-Click-on-FileSuggestion that had Clicked Sgg in BM)56.82017058840499\n",
            "SkipRate-FileSuggestion (Fraction of Conv-with-Click on FileSuggestion and BM-of-FileSuggestion that had Click outside BM)40.98182181382341\n",
            "Precision-MessageSuggestion (Fraction of Conv-with-BM-of-MessageSuggestion that had BM-click on the same)0.0\n",
            "Recall-MessageSuggestion (Fraction of Conv-with-Click-on-MessageSuggestion that had Clicked Sgg in BM)0.0\n",
            "SkipRate-MessageSuggestion (Fraction of Conv-with-Click on MessageSuggestion and BM-of-MessageSuggestion that had Click outside BM)100.0\n"
          ],
          "name": "stdout"
        }
      ]
    },
    {
      "cell_type": "code",
      "metadata": {
        "id": "0UnG5q4DH-0r"
      },
      "source": [
        "countBMpresent = sum(inputdata[\"Assigned\"] == 1)\n",
        "falsePositives = sum((inputdata[\"Label\"] == 0) & (inputdata[\"Assigned\"] == 1))\n",
        "trueNegatives = sum((inputdata[\"Label\"] == 0) & (inputdata[\"Assigned\"] == 0))\n",
        "truePositives = sum((inputdata[\"Label\"] == 1) & (inputdata[\"Assigned\"] == 1))\n",
        "falseNegatives = sum((inputdata[\"Label\"] == 1) & (inputdata[\"Assigned\"] == 0))\n",
        "clicksWhenBMPresent = sum((inputdata[\"ClickedSuggestionTypeInConv\"] != 'None') & (inputdata[\"Assigned\"] == 1))\n",
        "clicksWhenBMPresent1 = sum((inputdata[\"ClickedSuggestionTypeInConv\"] != 'None') & (inputdata[\"Label\"] == 1))\n",
        "clicksOutsideBMWhenBMPresent = sum((inputdata[\"ClickedSuggestionTypeInConv\"] != 'None') & (inputdata[\"Label\"] == 0) & (inputdata[\"Assigned\"] == 1))\n",
        "\n",
        "print(countBMpresent)\n",
        "print(falsePositives)\n",
        "print(trueNegatives)\n",
        "print(truePositives)\n",
        "print(falseNegatives)\n",
        "print(clicksWhenBMPresent)\n",
        "print(clicksWhenBMPresent1)\n",
        "print(clicksOutsideBMWhenBMPresent)"
      ],
      "execution_count": null,
      "outputs": []
    },
    {
      "cell_type": "code",
      "metadata": {
        "id": "-V9UrwKYH-0r"
      },
      "source": [
        "coverage = 100*countBMpresent/inputdata.shape[0]\n",
        "precision = 100*truePositives/(truePositives + falsePositives)\n",
        "recall = 100*truePositives/(truePositives + falseNegatives)\n",
        "skiprate = 100*clicksOutsideBMWhenBMPresent/clicksWhenBMPresent\n",
        "skiprate1 = 100*clicksOutsideBMWhenBMPresent/clicksWhenBMPresent1\n",
        "\n",
        "print(coverage)\n",
        "print(precision)\n",
        "print(recall)\n",
        "print(skiprate)\n",
        "print(skiprate1)"
      ],
      "execution_count": null,
      "outputs": []
    }
  ]
}